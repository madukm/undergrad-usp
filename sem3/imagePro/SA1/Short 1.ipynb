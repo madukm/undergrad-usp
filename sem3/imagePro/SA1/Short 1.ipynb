{
 "cells": [
  {
   "cell_type": "code",
   "execution_count": 1,
   "metadata": {},
   "outputs": [],
   "source": [
    "import numpy as np\n",
    "import imageio\n",
    "import matplotlib.pyplot as plt"
   ]
  },
  {
   "cell_type": "code",
   "execution_count": 2,
   "metadata": {
    "scrolled": true
   },
   "outputs": [
    {
     "name": "stdout",
     "output_type": "stream",
     "text": [
      "0.05\n"
     ]
    }
   ],
   "source": [
    "image1 = imageio.imread('gradient_noise_small.png')\n",
    "T = float(input())"
   ]
  },
  {
   "cell_type": "code",
   "execution_count": 3,
   "metadata": {},
   "outputs": [],
   "source": [
    "def DFT2D(f):\n",
    "    F = np.zeros(f.shape, dtype=np.complex64)\n",
    "    n, m = f.shape[0:2]\n",
    "    x = np.arange(n).reshape(n,1)\n",
    "    y = np.arange(m).reshape(1,m)\n",
    "    for u in np.arange(n):\n",
    "        for v in np.arange(m):\n",
    "            F[u,v] = np.sum(f * np.exp( (-1j*2*np.pi) * ((u*x/n) + (v*y/m))))\n",
    "    return F/np.sqrt(n*m)\n"
   ]
  },
  {
   "cell_type": "code",
   "execution_count": 5,
   "metadata": {},
   "outputs": [],
   "source": [
    "F1 = DFT2D(image1)"
   ]
  },
  {
   "cell_type": "code",
   "execution_count": 6,
   "metadata": {
    "scrolled": true
   },
   "outputs": [
    {
     "data": {
      "text/plain": [
       "(-0.5, 31.5, 31.5, -0.5)"
      ]
     },
     "execution_count": 6,
     "metadata": {},
     "output_type": "execute_result"
    },
    {
     "data": {
      "image/png": "[encoded data removed]",
      "text/plain": [
       "<Figure size 576x576 with 1 Axes>"
      ]
     },
     "metadata": {
      "needs_background": "light"
     },
     "output_type": "display_data"
    }
   ],
   "source": []
  },
  {
   "cell_type": "code",
   "execution_count": 7,
   "metadata": {},
   "outputs": [],
   "source": [
    "fourierSpectrum = np.abs(F1)"
   ]
  },
  {
   "cell_type": "code",
   "execution_count": 8,
   "metadata": {},
   "outputs": [
    {
     "data": {
      "text/plain": [
       "3713.8438"
      ]
     },
     "execution_count": 8,
     "metadata": {},
     "output_type": "execute_result"
    }
   ],
   "source": [
    "np.max(fourierSpectrum)"
   ]
  },
  {
   "cell_type": "code",
   "execution_count": 10,
   "metadata": {},
   "outputs": [
    {
     "name": "stdout",
     "output_type": "stream",
     "text": [
      "28.336444091796878\n"
     ]
    }
   ],
   "source": [
    "p2 = np.partition(fourierSpectrum.flatten(), -2)[-2]\n",
    "print(p2*T)"
   ]
  },
  {
   "cell_type": "code",
   "execution_count": 11,
   "metadata": {
    "scrolled": true
   },
   "outputs": [],
   "source": [
    "F1[abs(F1)<p2*T] = 0"
   ]
  },
  {
   "cell_type": "code",
   "execution_count": 16,
   "metadata": {},
   "outputs": [],
   "source": [
    "def IDFT2D(F):\n",
    "    f = np.zeros(F.shape, dtype=np.complex64)\n",
    "    n, m = F.shape[0:2]\n",
    "\n",
    "    u = np.arange(n).reshape(n,1)\n",
    "    v = np.arange(m).reshape(1,m)\n",
    "\n",
    "    for x in np.arange(n):\n",
    "        for y in np.arange(m):\n",
    "            f[x,y] = np.sum(F * np.exp( (1j*2*np.pi) * (((u*x)/n)+((v*y)/m))))\n",
    "\n",
    "    return np.real(f/np.sqrt(n*m));"
   ]
  },
  {
   "cell_type": "code",
   "execution_count": 17,
   "metadata": {},
   "outputs": [],
   "source": [
    "IF1 = IDFT2D(F1)"
   ]
  },
  {
   "cell_type": "code",
   "execution_count": 18,
   "metadata": {},
   "outputs": [
    {
     "data": {
      "text/plain": [
       "116.0576171875"
      ]
     },
     "execution_count": 18,
     "metadata": {},
     "output_type": "execute_result"
    }
   ],
   "source": [
    "np.mean(image1)"
   ]
  },
  {
   "cell_type": "code",
   "execution_count": 19,
   "metadata": {},
   "outputs": [
    {
     "data": {
      "text/plain": [
       "116.05762"
      ]
     },
     "execution_count": 19,
     "metadata": {},
     "output_type": "execute_result"
    }
   ],
   "source": [
    "np.mean(IF1)"
   ]
  },
  {
   "cell_type": "code",
   "execution_count": 22,
   "metadata": {},
   "outputs": [
    {
     "name": "stdout",
     "output_type": "stream",
     "text": [
      "961\n"
     ]
    }
   ],
   "source": [
    "coeficients = np.count_nonzero(abs(F1)<p2*T)\n",
    "print(coeficients)"
   ]
  },
  {
   "cell_type": "code",
   "execution_count": 22,
   "metadata": {},
   "outputs": [
    {
     "name": "stdout",
     "output_type": "stream",
     "text": [
      "[[0.5415973  1.5872489  1.3972808  ... 1.54654    1.3972808  1.5872489 ]\n",
      " [1.025743   0.5097371  1.1572659  ... 0.83737546 1.7178975  1.7607596 ]\n",
      " [1.6043365  1.1146508  1.0618383  ... 1.3478091  0.5701075  1.4949015 ]\n",
      " ...\n",
      " [1.5428516  1.6265837  1.6843112  ... 1.1622063  0.48931217 1.8952533 ]\n",
      " [1.6043365  1.4949015  0.5701075  ... 1.8910048  1.0618383  1.1146508 ]\n",
      " [1.025743   1.7607596  1.7178975  ... 1.5363477  1.1572659  0.5097371 ]]\n"
     ]
    }
   ],
   "source": [
    "logSpectrum = np.log(1+np.fft.fftshift(np.abs(F1)))\n",
    "print(logSpectrum)"
   ]
  },
  {
   "cell_type": "code",
   "execution_count": 23,
   "metadata": {},
   "outputs": [
    {
     "name": "stdout",
     "output_type": "stream",
     "text": [
      "8.220092\n"
     ]
    }
   ],
   "source": [
    "print(np.amax(logSpectrum, axis=(0,1)))"
   ]
  },
  {
   "cell_type": "code",
   "execution_count": 24,
   "metadata": {},
   "outputs": [
    {
     "data": {
      "text/plain": [
       "(-0.5, 31.5, 31.5, -0.5)"
      ]
     },
     "execution_count": 24,
     "metadata": {},
     "output_type": "execute_result"
    },
    {
     "data": {
      "image/png": "[encoded data removed]",
      "text/plain": [
       "<Figure size 432x288 with 1 Axes>"
      ]
     },
     "metadata": {
      "needs_background": "light"
     },
     "output_type": "display_data"
    }
   ],
   "source": [
    "plt.imshow(np.abs(F1), cmap=\"gray\")\n",
    "plt.axis('off')"
   ]
  },
  {
   "cell_type": "code",
   "execution_count": 25,
   "metadata": {},
   "outputs": [
    {
     "name": "stdout",
     "output_type": "stream",
     "text": [
      "[[3.7138438e+03 5.6116125e+02 2.7561929e+02 ... 1.8621815e+02\n",
      "  2.7561929e+02 5.6116125e+02]\n",
      " [5.6672888e+02 4.8675065e+00 1.5908889e+00 ... 4.4012365e+00\n",
      "  2.9309223e+00 3.1109247e+00]\n",
      " [2.7627240e+02 8.0080783e-01 1.3667201e+00 ... 3.9547138e+00\n",
      "  3.8094013e+00 1.9622530e+00]\n",
      " ...\n",
      " [1.8621202e+02 7.4456316e-01 3.8691452e+00 ... 4.5958757e+00\n",
      "  1.6970026e+00 1.4580749e+00]\n",
      " [2.7627240e+02 1.9622530e+00 3.8094013e+00 ... 1.6016682e+00\n",
      "  1.3667201e+00 8.0080783e-01]\n",
      " [5.6672888e+02 3.1109247e+00 2.9309223e+00 ... 1.9663450e+00\n",
      "  1.5908889e+00 4.8675065e+00]]\n"
     ]
    }
   ],
   "source": [
    "spectrum = np.abs(F1)\n",
    "print(spectrum)"
   ]
  },
  {
   "cell_type": "code",
   "execution_count": 26,
   "metadata": {},
   "outputs": [
    {
     "name": "stdout",
     "output_type": "stream",
     "text": [
      "0.5415973\n"
     ]
    }
   ],
   "source": [
    "print(logSpectrum[0][0])"
   ]
  },
  {
   "cell_type": "code",
   "execution_count": 27,
   "metadata": {},
   "outputs": [],
   "source": [
    "def IDFT2D(F):\n",
    "    f = np.zeros(F.shape, dtype=np.complex64)\n",
    "    n, m = F.shape[0:2]\n",
    "    u = np.arange(n).reshape(n,1)\n",
    "    v = np.arange(m).reshape(1,m)\n",
    "    for x in np.arange(n):\n",
    "        for y in np.arange(m):\n",
    "            F[x,y] = np.sum(f * np.exp( (-1j*2*np.pi) * ((u*x/n) + (v*y/m))))\n",
    "    return abs(F/np.sqrt(n*m))"
   ]
  },
  {
   "cell_type": "code",
   "execution_count": null,
   "metadata": {},
   "outputs": [],
   "source": [
    "F2 = IDFT2D(F1)\n"
   ]
  }
 ],
 "metadata": {
  "kernelspec": {
   "display_name": "Python 3",
   "language": "python",
   "name": "python3"
  },
  "language_info": {
   "codemirror_mode": {
    "name": "ipython",
    "version": 3
   },
   "file_extension": ".py",
   "mimetype": "text/x-python",
   "name": "python",
   "nbconvert_exporter": "python",
   "pygments_lexer": "ipython3",
   "version": "3.6.10"
  }
 },
 "nbformat": 4,
 "nbformat_minor": 4
}
